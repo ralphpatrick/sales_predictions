{
  "nbformat": 4,
  "nbformat_minor": 0,
  "metadata": {
    "colab": {
      "provenance": [],
      "authorship_tag": "ABX9TyMV2HSORMc93GOa+EZ0yGQq",
      "include_colab_link": true
    },
    "kernelspec": {
      "name": "python3",
      "display_name": "Python 3"
    },
    "language_info": {
      "name": "python"
    }
  },
  "cells": [
    {
      "cell_type": "markdown",
      "metadata": {
        "id": "view-in-github",
        "colab_type": "text"
      },
      "source": [
        "<a href=\"https://colab.research.google.com/github/ralphpatrick/sales_predictions/blob/main/Data_Visualization_Exercise_(Core).ipynb\" target=\"_parent\"><img src=\"https://colab.research.google.com/assets/colab-badge.svg\" alt=\"Open In Colab\"/></a>"
      ]
    },
    {
      "cell_type": "markdown",
      "source": [
        "# Data Visualization Exercise (Core)"
      ],
      "metadata": {
        "id": "Wy_-txdgnmUF"
      }
    },
    {
      "cell_type": "code",
      "source": [
        "import numpy as np\n",
        "import pandas as pd\n",
        "import matplotlib.pyplot as plt\n",
        "import seaborn as sns"
      ],
      "metadata": {
        "id": "fNznekZtnova"
      },
      "execution_count": 1,
      "outputs": []
    },
    {
      "cell_type": "code",
      "source": [
        "filename = '/content/Protein Costs.xlsx'"
      ],
      "metadata": {
        "id": "-PZOylWYolOn"
      },
      "execution_count": 2,
      "outputs": []
    },
    {
      "cell_type": "code",
      "source": [
        "#load the dataframe\n",
        "df = pd.read_excel(filename)\n",
        "df"
      ],
      "metadata": {
        "colab": {
          "base_uri": "https://localhost:8080/",
          "height": 739
        },
        "id": "xGM0wdk2oml1",
        "outputId": "5c912641-a95d-4858-e044-6c4f6839aa48"
      },
      "execution_count": 3,
      "outputs": [
        {
          "output_type": "execute_result",
          "data": {
            "text/plain": [
              "            Protein Source  Cost per 20 Grams of Protein (US Dollars)  \\\n",
              "0                Skim Milk                                       0.65   \n",
              "1   Chicken Legs (bone-in)                                       0.65   \n",
              "2                  Peanuts                                       0.68   \n",
              "3               Whole Milk                                       0.85   \n",
              "4           Chicken Breast                                       0.86   \n",
              "5                     Tuna                                       0.95   \n",
              "6       Canned Black Beans                                       1.03   \n",
              "7       Eggs (extra large)                                       1.12   \n",
              "8           Cheddar Cheese                                       1.14   \n",
              "9          Extra Firm Tofu                                       1.16   \n",
              "10     Whey Protein Powder                                       1.23   \n",
              "11    85/15 beef (15% fat)                                       1.38   \n",
              "12    80/20 beef (20% fat)                                       1.39   \n",
              "13      93/7 beef (7% fat)                                       1.41   \n",
              "14  Egg Whites in a carton                                       1.44   \n",
              "15         Pork Tenderloin                                       1.49   \n",
              "16            Greek Yogurt                                       1.50   \n",
              "17                 Tilapia                                       1.65   \n",
              "18           String Cheese                                       1.66   \n",
              "19           Ground Turkey                                       1.69   \n",
              "20                  Salmon                                       2.35   \n",
              "21          Canned Chicken                                       3.54   \n",
              "\n",
              "        Cost per package  Total Protein per package (g) Vegetarian?  Vegan?  \\\n",
              "0              $4.29/gal                            133            T      F   \n",
              "1               $1.95/lb                             49            F      F   \n",
              "2               $3.79/lb                            112            T      T   \n",
              "3              $5.19/gal                            123            T      F   \n",
              "4               $5.89/lb                            139            F      F   \n",
              "5              $1.09/can                             23            F      F   \n",
              "6              $1.29/can                             25            T      T   \n",
              "7            $4.69/dozen                              7            T      F   \n",
              "8        $3.19/8oz block                             56            T      F   \n",
              "9               $2.49/lb                             43            T      T   \n",
              "10            $42.74/tub                            696            T      F   \n",
              "11              $5.79/lb                             84            F      F   \n",
              "12              $5.29/lb                             76            F      F   \n",
              "13              $6.79/lb                             96            F      F   \n",
              "14     $3.59/16oz carton                             50            T      F   \n",
              "15    $8.59/22oz package                            115            F      F   \n",
              "16  $5.99/32oz container                             80            T      F   \n",
              "17              $7.49/lb                             91            F      F   \n",
              "18         $4.89/12 pack                             84            T      F   \n",
              "19              $8.09/lb                             96            F      F   \n",
              "20             $10.69/lb                             91            F      F   \n",
              "21       $3.19/4.5oz can                             18            F      F   \n",
              "\n",
              "                                                Notes  \n",
              "0                                                 NaN  \n",
              "1   Price includes bones which are inedible. Chick...  \n",
              "2                                                 NaN  \n",
              "3                                                 NaN  \n",
              "4                                                 NaN  \n",
              "5                                                 NaN  \n",
              "6                                                 NaN  \n",
              "7   An extra large egg is estimated at 7 grams of ...  \n",
              "8                                                 NaN  \n",
              "9                                                 NaN  \n",
              "10                                                NaN  \n",
              "11                                                NaN  \n",
              "12                                                NaN  \n",
              "13                                                NaN  \n",
              "14                                                NaN  \n",
              "15                                                NaN  \n",
              "16                                                NaN  \n",
              "17                                                NaN  \n",
              "18                                                NaN  \n",
              "19                                                NaN  \n",
              "20                                                NaN  \n",
              "21                                                NaN  "
            ],
            "text/html": [
              "\n",
              "  <div id=\"df-a09ae145-4419-4a91-bfcf-14e8ab974b7f\">\n",
              "    <div class=\"colab-df-container\">\n",
              "      <div>\n",
              "<style scoped>\n",
              "    .dataframe tbody tr th:only-of-type {\n",
              "        vertical-align: middle;\n",
              "    }\n",
              "\n",
              "    .dataframe tbody tr th {\n",
              "        vertical-align: top;\n",
              "    }\n",
              "\n",
              "    .dataframe thead th {\n",
              "        text-align: right;\n",
              "    }\n",
              "</style>\n",
              "<table border=\"1\" class=\"dataframe\">\n",
              "  <thead>\n",
              "    <tr style=\"text-align: right;\">\n",
              "      <th></th>\n",
              "      <th>Protein Source</th>\n",
              "      <th>Cost per 20 Grams of Protein (US Dollars)</th>\n",
              "      <th>Cost per package</th>\n",
              "      <th>Total Protein per package (g)</th>\n",
              "      <th>Vegetarian?</th>\n",
              "      <th>Vegan?</th>\n",
              "      <th>Notes</th>\n",
              "    </tr>\n",
              "  </thead>\n",
              "  <tbody>\n",
              "    <tr>\n",
              "      <th>0</th>\n",
              "      <td>Skim Milk</td>\n",
              "      <td>0.65</td>\n",
              "      <td>$4.29/gal</td>\n",
              "      <td>133</td>\n",
              "      <td>T</td>\n",
              "      <td>F</td>\n",
              "      <td>NaN</td>\n",
              "    </tr>\n",
              "    <tr>\n",
              "      <th>1</th>\n",
              "      <td>Chicken Legs (bone-in)</td>\n",
              "      <td>0.65</td>\n",
              "      <td>$1.95/lb</td>\n",
              "      <td>49</td>\n",
              "      <td>F</td>\n",
              "      <td>F</td>\n",
              "      <td>Price includes bones which are inedible. Chick...</td>\n",
              "    </tr>\n",
              "    <tr>\n",
              "      <th>2</th>\n",
              "      <td>Peanuts</td>\n",
              "      <td>0.68</td>\n",
              "      <td>$3.79/lb</td>\n",
              "      <td>112</td>\n",
              "      <td>T</td>\n",
              "      <td>T</td>\n",
              "      <td>NaN</td>\n",
              "    </tr>\n",
              "    <tr>\n",
              "      <th>3</th>\n",
              "      <td>Whole Milk</td>\n",
              "      <td>0.85</td>\n",
              "      <td>$5.19/gal</td>\n",
              "      <td>123</td>\n",
              "      <td>T</td>\n",
              "      <td>F</td>\n",
              "      <td>NaN</td>\n",
              "    </tr>\n",
              "    <tr>\n",
              "      <th>4</th>\n",
              "      <td>Chicken Breast</td>\n",
              "      <td>0.86</td>\n",
              "      <td>$5.89/lb</td>\n",
              "      <td>139</td>\n",
              "      <td>F</td>\n",
              "      <td>F</td>\n",
              "      <td>NaN</td>\n",
              "    </tr>\n",
              "    <tr>\n",
              "      <th>5</th>\n",
              "      <td>Tuna</td>\n",
              "      <td>0.95</td>\n",
              "      <td>$1.09/can</td>\n",
              "      <td>23</td>\n",
              "      <td>F</td>\n",
              "      <td>F</td>\n",
              "      <td>NaN</td>\n",
              "    </tr>\n",
              "    <tr>\n",
              "      <th>6</th>\n",
              "      <td>Canned Black Beans</td>\n",
              "      <td>1.03</td>\n",
              "      <td>$1.29/can</td>\n",
              "      <td>25</td>\n",
              "      <td>T</td>\n",
              "      <td>T</td>\n",
              "      <td>NaN</td>\n",
              "    </tr>\n",
              "    <tr>\n",
              "      <th>7</th>\n",
              "      <td>Eggs (extra large)</td>\n",
              "      <td>1.12</td>\n",
              "      <td>$4.69/dozen</td>\n",
              "      <td>7</td>\n",
              "      <td>T</td>\n",
              "      <td>F</td>\n",
              "      <td>An extra large egg is estimated at 7 grams of ...</td>\n",
              "    </tr>\n",
              "    <tr>\n",
              "      <th>8</th>\n",
              "      <td>Cheddar Cheese</td>\n",
              "      <td>1.14</td>\n",
              "      <td>$3.19/8oz block</td>\n",
              "      <td>56</td>\n",
              "      <td>T</td>\n",
              "      <td>F</td>\n",
              "      <td>NaN</td>\n",
              "    </tr>\n",
              "    <tr>\n",
              "      <th>9</th>\n",
              "      <td>Extra Firm Tofu</td>\n",
              "      <td>1.16</td>\n",
              "      <td>$2.49/lb</td>\n",
              "      <td>43</td>\n",
              "      <td>T</td>\n",
              "      <td>T</td>\n",
              "      <td>NaN</td>\n",
              "    </tr>\n",
              "    <tr>\n",
              "      <th>10</th>\n",
              "      <td>Whey Protein Powder</td>\n",
              "      <td>1.23</td>\n",
              "      <td>$42.74/tub</td>\n",
              "      <td>696</td>\n",
              "      <td>T</td>\n",
              "      <td>F</td>\n",
              "      <td>NaN</td>\n",
              "    </tr>\n",
              "    <tr>\n",
              "      <th>11</th>\n",
              "      <td>85/15 beef (15% fat)</td>\n",
              "      <td>1.38</td>\n",
              "      <td>$5.79/lb</td>\n",
              "      <td>84</td>\n",
              "      <td>F</td>\n",
              "      <td>F</td>\n",
              "      <td>NaN</td>\n",
              "    </tr>\n",
              "    <tr>\n",
              "      <th>12</th>\n",
              "      <td>80/20 beef (20% fat)</td>\n",
              "      <td>1.39</td>\n",
              "      <td>$5.29/lb</td>\n",
              "      <td>76</td>\n",
              "      <td>F</td>\n",
              "      <td>F</td>\n",
              "      <td>NaN</td>\n",
              "    </tr>\n",
              "    <tr>\n",
              "      <th>13</th>\n",
              "      <td>93/7 beef (7% fat)</td>\n",
              "      <td>1.41</td>\n",
              "      <td>$6.79/lb</td>\n",
              "      <td>96</td>\n",
              "      <td>F</td>\n",
              "      <td>F</td>\n",
              "      <td>NaN</td>\n",
              "    </tr>\n",
              "    <tr>\n",
              "      <th>14</th>\n",
              "      <td>Egg Whites in a carton</td>\n",
              "      <td>1.44</td>\n",
              "      <td>$3.59/16oz carton</td>\n",
              "      <td>50</td>\n",
              "      <td>T</td>\n",
              "      <td>F</td>\n",
              "      <td>NaN</td>\n",
              "    </tr>\n",
              "    <tr>\n",
              "      <th>15</th>\n",
              "      <td>Pork Tenderloin</td>\n",
              "      <td>1.49</td>\n",
              "      <td>$8.59/22oz package</td>\n",
              "      <td>115</td>\n",
              "      <td>F</td>\n",
              "      <td>F</td>\n",
              "      <td>NaN</td>\n",
              "    </tr>\n",
              "    <tr>\n",
              "      <th>16</th>\n",
              "      <td>Greek Yogurt</td>\n",
              "      <td>1.50</td>\n",
              "      <td>$5.99/32oz container</td>\n",
              "      <td>80</td>\n",
              "      <td>T</td>\n",
              "      <td>F</td>\n",
              "      <td>NaN</td>\n",
              "    </tr>\n",
              "    <tr>\n",
              "      <th>17</th>\n",
              "      <td>Tilapia</td>\n",
              "      <td>1.65</td>\n",
              "      <td>$7.49/lb</td>\n",
              "      <td>91</td>\n",
              "      <td>F</td>\n",
              "      <td>F</td>\n",
              "      <td>NaN</td>\n",
              "    </tr>\n",
              "    <tr>\n",
              "      <th>18</th>\n",
              "      <td>String Cheese</td>\n",
              "      <td>1.66</td>\n",
              "      <td>$4.89/12 pack</td>\n",
              "      <td>84</td>\n",
              "      <td>T</td>\n",
              "      <td>F</td>\n",
              "      <td>NaN</td>\n",
              "    </tr>\n",
              "    <tr>\n",
              "      <th>19</th>\n",
              "      <td>Ground Turkey</td>\n",
              "      <td>1.69</td>\n",
              "      <td>$8.09/lb</td>\n",
              "      <td>96</td>\n",
              "      <td>F</td>\n",
              "      <td>F</td>\n",
              "      <td>NaN</td>\n",
              "    </tr>\n",
              "    <tr>\n",
              "      <th>20</th>\n",
              "      <td>Salmon</td>\n",
              "      <td>2.35</td>\n",
              "      <td>$10.69/lb</td>\n",
              "      <td>91</td>\n",
              "      <td>F</td>\n",
              "      <td>F</td>\n",
              "      <td>NaN</td>\n",
              "    </tr>\n",
              "    <tr>\n",
              "      <th>21</th>\n",
              "      <td>Canned Chicken</td>\n",
              "      <td>3.54</td>\n",
              "      <td>$3.19/4.5oz can</td>\n",
              "      <td>18</td>\n",
              "      <td>F</td>\n",
              "      <td>F</td>\n",
              "      <td>NaN</td>\n",
              "    </tr>\n",
              "  </tbody>\n",
              "</table>\n",
              "</div>\n",
              "      <button class=\"colab-df-convert\" onclick=\"convertToInteractive('df-a09ae145-4419-4a91-bfcf-14e8ab974b7f')\"\n",
              "              title=\"Convert this dataframe to an interactive table.\"\n",
              "              style=\"display:none;\">\n",
              "        \n",
              "  <svg xmlns=\"http://www.w3.org/2000/svg\" height=\"24px\"viewBox=\"0 0 24 24\"\n",
              "       width=\"24px\">\n",
              "    <path d=\"M0 0h24v24H0V0z\" fill=\"none\"/>\n",
              "    <path d=\"M18.56 5.44l.94 2.06.94-2.06 2.06-.94-2.06-.94-.94-2.06-.94 2.06-2.06.94zm-11 1L8.5 8.5l.94-2.06 2.06-.94-2.06-.94L8.5 2.5l-.94 2.06-2.06.94zm10 10l.94 2.06.94-2.06 2.06-.94-2.06-.94-.94-2.06-.94 2.06-2.06.94z\"/><path d=\"M17.41 7.96l-1.37-1.37c-.4-.4-.92-.59-1.43-.59-.52 0-1.04.2-1.43.59L10.3 9.45l-7.72 7.72c-.78.78-.78 2.05 0 2.83L4 21.41c.39.39.9.59 1.41.59.51 0 1.02-.2 1.41-.59l7.78-7.78 2.81-2.81c.8-.78.8-2.07 0-2.86zM5.41 20L4 18.59l7.72-7.72 1.47 1.35L5.41 20z\"/>\n",
              "  </svg>\n",
              "      </button>\n",
              "      \n",
              "  <style>\n",
              "    .colab-df-container {\n",
              "      display:flex;\n",
              "      flex-wrap:wrap;\n",
              "      gap: 12px;\n",
              "    }\n",
              "\n",
              "    .colab-df-convert {\n",
              "      background-color: #E8F0FE;\n",
              "      border: none;\n",
              "      border-radius: 50%;\n",
              "      cursor: pointer;\n",
              "      display: none;\n",
              "      fill: #1967D2;\n",
              "      height: 32px;\n",
              "      padding: 0 0 0 0;\n",
              "      width: 32px;\n",
              "    }\n",
              "\n",
              "    .colab-df-convert:hover {\n",
              "      background-color: #E2EBFA;\n",
              "      box-shadow: 0px 1px 2px rgba(60, 64, 67, 0.3), 0px 1px 3px 1px rgba(60, 64, 67, 0.15);\n",
              "      fill: #174EA6;\n",
              "    }\n",
              "\n",
              "    [theme=dark] .colab-df-convert {\n",
              "      background-color: #3B4455;\n",
              "      fill: #D2E3FC;\n",
              "    }\n",
              "\n",
              "    [theme=dark] .colab-df-convert:hover {\n",
              "      background-color: #434B5C;\n",
              "      box-shadow: 0px 1px 3px 1px rgba(0, 0, 0, 0.15);\n",
              "      filter: drop-shadow(0px 1px 2px rgba(0, 0, 0, 0.3));\n",
              "      fill: #FFFFFF;\n",
              "    }\n",
              "  </style>\n",
              "\n",
              "      <script>\n",
              "        const buttonEl =\n",
              "          document.querySelector('#df-a09ae145-4419-4a91-bfcf-14e8ab974b7f button.colab-df-convert');\n",
              "        buttonEl.style.display =\n",
              "          google.colab.kernel.accessAllowed ? 'block' : 'none';\n",
              "\n",
              "        async function convertToInteractive(key) {\n",
              "          const element = document.querySelector('#df-a09ae145-4419-4a91-bfcf-14e8ab974b7f');\n",
              "          const dataTable =\n",
              "            await google.colab.kernel.invokeFunction('convertToInteractive',\n",
              "                                                     [key], {});\n",
              "          if (!dataTable) return;\n",
              "\n",
              "          const docLinkHtml = 'Like what you see? Visit the ' +\n",
              "            '<a target=\"_blank\" href=https://colab.research.google.com/notebooks/data_table.ipynb>data table notebook</a>'\n",
              "            + ' to learn more about interactive tables.';\n",
              "          element.innerHTML = '';\n",
              "          dataTable['output_type'] = 'display_data';\n",
              "          await google.colab.output.renderOutput(dataTable, element);\n",
              "          const docLink = document.createElement('div');\n",
              "          docLink.innerHTML = docLinkHtml;\n",
              "          element.appendChild(docLink);\n",
              "        }\n",
              "      </script>\n",
              "    </div>\n",
              "  </div>\n",
              "  "
            ]
          },
          "metadata": {},
          "execution_count": 3
        }
      ]
    },
    {
      "cell_type": "code",
      "source": [
        "df.shape"
      ],
      "metadata": {
        "colab": {
          "base_uri": "https://localhost:8080/"
        },
        "id": "_hq0Cnxlov_C",
        "outputId": "346a8c4d-da82-4329-fbfa-f2635a3d4121"
      },
      "execution_count": 4,
      "outputs": [
        {
          "output_type": "execute_result",
          "data": {
            "text/plain": [
              "(22, 7)"
            ]
          },
          "metadata": {},
          "execution_count": 4
        }
      ]
    },
    {
      "cell_type": "code",
      "source": [
        "df.columns"
      ],
      "metadata": {
        "colab": {
          "base_uri": "https://localhost:8080/"
        },
        "id": "gqXKaqwapUFW",
        "outputId": "2aed5b6d-b1ca-4b67-8322-69a91a04e449"
      },
      "execution_count": 5,
      "outputs": [
        {
          "output_type": "execute_result",
          "data": {
            "text/plain": [
              "Index(['Protein Source', 'Cost per 20 Grams of Protein (US Dollars)',\n",
              "       'Cost per package', 'Total Protein per package (g)', 'Vegetarian? ',\n",
              "       'Vegan?', 'Notes'],\n",
              "      dtype='object')"
            ]
          },
          "metadata": {},
          "execution_count": 5
        }
      ]
    },
    {
      "cell_type": "code",
      "source": [
        "df_sub = df[['Protein Source','Cost per 20 Grams of Protein (US Dollars)',]]"
      ],
      "metadata": {
        "id": "Rosv4GOMpVra"
      },
      "execution_count": 10,
      "outputs": []
    },
    {
      "cell_type": "code",
      "source": [
        "df_sub.plot(x='Protein Source',kind='barh', figsize=(10,10))"
      ],
      "metadata": {
        "colab": {
          "base_uri": "https://localhost:8080/",
          "height": 848
        },
        "id": "PbpdC_vAr_N4",
        "outputId": "b4d624b7-368b-4172-ff57-c4018fdea9b4"
      },
      "execution_count": 25,
      "outputs": [
        {
          "output_type": "execute_result",
          "data": {
            "text/plain": [
              "<Axes: ylabel='Protein Source'>"
            ]
          },
          "metadata": {},
          "execution_count": 25
        },
        {
          "output_type": "display_data",
          "data": {
            "text/plain": [
              "<Figure size 1000x1000 with 1 Axes>"
            ],
            "image/png": "[encoded data removed]"
          },
          "metadata": {}
        }
      ]
    },
    {
      "cell_type": "markdown",
      "source": [
        "> The cheapest protein is \"SKIM MILK\""
      ],
      "metadata": {
        "id": "ygkaUglpssNy"
      }
    }
  ]
}